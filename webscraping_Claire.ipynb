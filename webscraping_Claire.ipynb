{
 "cells": [
  {
   "cell_type": "markdown",
   "metadata": {},
   "source": [
    "#Web Scraping: Citylab.com\n",
    "\n",
    "##Outline:\n",
    "1. Web Scraping\n",
    "2. Data Analysis\n",
    "3. Keywords Examination"
   ]
  },
  {
   "cell_type": "markdown",
   "metadata": {},
   "source": [
    "##1. Web Scraping\n",
    "\n",
    "####1) First, take a look at the URL and HTML code \n",
    "\n",
    "9 Columns: 'commute','work','housing','weather','crime','polities','design, 'tech', 'navigator'\n",
    "\n",
    "Under each column: table of contents （18-20 blogs per page)\n",
    "\n",
    "####URL: \"www.citylab.com/commute/?page=15\"\n",
    "\n"
   ]
  },
  {
   "cell_type": "markdown",
   "metadata": {},
   "source": [
    "![HTML code](https://dl.dropbox.com/s/jcgcq25nu17ca1r/Screen%20Shot%202015-06-25%20at%2010.20.06%20PM.png)"
   ]
  },
  {
   "cell_type": "markdown",
   "metadata": {},
   "source": [
    "\n",
    "Each blog: Title, Description, Author.....\n",
    "\n",
    "\n",
    "Disruption: Newsletters, Ads.....\n",
    "\n"
   ]
  },
  {
   "cell_type": "markdown",
   "metadata": {},
   "source": [
    "\n",
    "![HTML code](https://dl.dropbox.com/s/8rihqxhubomey6b/Screen%20Shot%202015-06-25%20at%2010.20.34%20PM.png)"
   ]
  },
  {
   "cell_type": "markdown",
   "metadata": {},
   "source": [
    "...and Blog post date, URL(hidden in the comments tag), and blog's category(indicated in the URL)\n",
    "Disruption: Some comment tags were missing"
   ]
  },
  {
   "cell_type": "markdown",
   "metadata": {},
   "source": [
    "![HTML Code](https://dl.dropbox.com/s/eoqs7gnwjmxni07/Screen%20Shot%202015-06-25%20at%2010.21.09%20PM.png)"
   ]
  },
  {
   "cell_type": "markdown",
   "metadata": {},
   "source": [
    "###Variables: \n",
    "    1. Title\n",
    "    2. Description\n",
    "    3. Datetime\n",
    "    4. Author\n",
    "    5. Link\n",
    "    6. Category"
   ]
  },
  {
   "cell_type": "markdown",
   "metadata": {},
   "source": [
    "####2) Web scraping"
   ]
  },
  {
   "cell_type": "code",
   "execution_count": null,
   "metadata": {
    "collapsed": true
   },
   "outputs": [],
   "source": [
    "import re\n",
    "import requests\n",
    "import string\n",
    "import pandas as pd \n",
    "import numpy as np\n",
    "from bs4 import BeautifulSoup"
   ]
  },
  {
   "cell_type": "code",
   "execution_count": null,
   "metadata": {
    "collapsed": true
   },
   "outputs": [],
   "source": [
    "def sections_url(section, pagenumber):\n",
    "        return 'http://www.citylab.com/' + section + '/?page=' + pagenumber"
   ]
  },
  {
   "cell_type": "code",
   "execution_count": null,
   "metadata": {
    "collapsed": true
   },
   "outputs": [],
   "source": [
    "### define the section\n",
    "columns = ['commute','work','housing','weather','crime','politics','design','tech','navigator']\n",
    "\n",
    "article_list = []\n",
    "for section in columns:\n",
    "    print \"processing %s\" %section\n",
    "    \n",
    "    ### no blog after page 200 (by June 24, 2015)\n",
    "    for pagenumber in range(1,200):\n",
    "        content_temp = requests.get(sections_url(section, str(pagenumber)))\n",
    "        \n",
    "        ### if the page does not exist: \n",
    "        if content_temp.status_code == 404:\n",
    "            break\n",
    "        if content_temp.status_code == 200:\n",
    "            print \"processing page %d\" % pagenumber\n",
    "            contents = BeautifulSoup(content_temp.text)\n",
    "            \n",
    "            ## find all 'div class' tags that include 'article':\n",
    "            articleTags = contents.find_all(class_ = re.compile(\"article\"))\n",
    "            \n",
    "            # for each article:\n",
    "            for tag in articleTags:\n",
    "                article = []\n",
    "                title_article = tag.find('h2', {'class': \"hed\"}).get_text()\n",
    "                descript_article = tag.find('p',{'class': \"dek\"}).get_text()\n",
    "                datetime_article = tag.time.get('datetime')\n",
    "                author_article = tag.find('li',{'class': \"byline\"}).get_text()\n",
    "                \n",
    "                # article's link and category are hidden in the comment tags\n",
    "                commentTags = tag.find('li', {'class': \"comments\"})\n",
    "                try:\n",
    "                    link_1 = commentTags.a.get('href')                \n",
    "                    link_2 = re.sub('#disqus_thread','',link_1)\n",
    "                    link_article = 'http://www.citylab.com' + link_2\n",
    "                    category_article = link_2.split('/')[1]\n",
    "                \n",
    "                # but some of the comment tags are missing:\n",
    "                except AttributeError:\n",
    "                    link_article = \"NA\"\n",
    "                    category_article = \"NA\"\n",
    "                \n",
    "                \n",
    "                article.append(title_article)\n",
    "                article.append(descript_article)\n",
    "                article.append(datetime_article)\n",
    "                article.append(author_article)\n",
    "                article.append(link_article)\n",
    "                article.append(category_article)\n",
    "                article.append(section)\n",
    "                \n",
    "                article_list.append(article)\n",
    "\n",
    "article_dataframe = pd.DataFrame(article_list, columns=['title', 'description', 'datetime', 'author', 'link', 'category','section'])\n",
    "article_dataframe.to_csv(\"/Users/yichun/webscraping/citylab.csv\", encoding = 'utf-8')"
   ]
  },
  {
   "cell_type": "markdown",
   "metadata": {},
   "source": [
    "##2. Data Analysis"
   ]
  },
  {
   "cell_type": "code",
   "execution_count": 5,
   "metadata": {
    "collapsed": true
   },
   "outputs": [],
   "source": [
    "import matplotlib.pyplot as plt\n",
    "import pandas as pd \n",
    "import string\n",
    "import nltk\n",
    "from nltk import word_tokenize\n",
    "from nltk.util import ngrams\n",
    "%matplotlib inline"
   ]
  },
  {
   "cell_type": "code",
   "execution_count": 10,
   "metadata": {
    "collapsed": false
   },
   "outputs": [
    {
     "name": "stdout",
     "output_type": "stream",
     "text": [
      "12820\n",
      "11785\n"
     ]
    }
   ],
   "source": [
    "citylab = '/Users/yichun/webscraping/citylab.csv'\n",
    "a = pd.read_csv(citylab)\n",
    "\n",
    "## remove the index column\n",
    "a = a.iloc[:,1:]\n",
    "print len(a)\n",
    "\n",
    "# remove the duplicated article based on links\n",
    "df1 = a.drop_duplicates('link')\n",
    "df1 = df1.reset_index()\n",
    "df1 = df1.iloc[:,1:]\n",
    "print len(df1)"
   ]
  },
  {
   "cell_type": "code",
   "execution_count": 8,
   "metadata": {
    "collapsed": false
   },
   "outputs": [
    {
     "data": {
      "text/html": [
       "<div style=\"max-height:1000px;max-width:1500px;overflow:auto;\">\n",
       "<table border=\"1\" class=\"dataframe\">\n",
       "  <thead>\n",
       "    <tr style=\"text-align: right;\">\n",
       "      <th></th>\n",
       "      <th>title</th>\n",
       "      <th>description</th>\n",
       "      <th>datetime</th>\n",
       "      <th>author</th>\n",
       "      <th>link</th>\n",
       "      <th>category</th>\n",
       "      <th>section</th>\n",
       "    </tr>\n",
       "  </thead>\n",
       "  <tbody>\n",
       "    <tr>\n",
       "      <th>0</th>\n",
       "      <td>The 'Great Migration' Was About Racial Terror,...</td>\n",
       "      <td>“The North and the Congress basically gave up ...</td>\n",
       "      <td>2015-06-24</td>\n",
       "      <td>Brentin Mock</td>\n",
       "      <td>http://www.citylab.com/crime/2015/06/the-great...</td>\n",
       "      <td>crime</td>\n",
       "      <td>commute</td>\n",
       "    </tr>\n",
       "    <tr>\n",
       "      <th>1</th>\n",
       "      <td>Yet More Evidence for the Social Cost of Drivi...</td>\n",
       "      <td>A study of Greater London linked loud traffic ...</td>\n",
       "      <td>2015-06-24</td>\n",
       "      <td>Eric Jaffe</td>\n",
       "      <td>http://www.citylab.com/commute/2015/06/yet-mor...</td>\n",
       "      <td>commute</td>\n",
       "      <td>commute</td>\n",
       "    </tr>\n",
       "    <tr>\n",
       "      <th>2</th>\n",
       "      <td>How Millennials Are Reviving Cleveland</td>\n",
       "      <td>The downtown population is at an all-time high...</td>\n",
       "      <td>2015-06-23</td>\n",
       "      <td>Eric Jaffe</td>\n",
       "      <td>http://www.citylab.com/work/2015/06/how-millen...</td>\n",
       "      <td>work</td>\n",
       "      <td>commute</td>\n",
       "    </tr>\n",
       "    <tr>\n",
       "      <th>3</th>\n",
       "      <td>How Can We Understand the Charleston Shootings...</td>\n",
       "      <td>A group of professors have created the #Charle...</td>\n",
       "      <td>2015-06-23</td>\n",
       "      <td>Brentin Mock</td>\n",
       "      <td>http://www.citylab.com/crime/2015/06/how-can-w...</td>\n",
       "      <td>crime</td>\n",
       "      <td>commute</td>\n",
       "    </tr>\n",
       "    <tr>\n",
       "      <th>4</th>\n",
       "      <td>Paris Is Making 7 Iconic Squares More Pedestri...</td>\n",
       "      <td>“A city where you’re surrounded by hubbub, aba...</td>\n",
       "      <td>2015-06-23</td>\n",
       "      <td>Feargus O'Sullivan</td>\n",
       "      <td>http://www.citylab.com/commute/2015/06/paris-i...</td>\n",
       "      <td>commute</td>\n",
       "      <td>commute</td>\n",
       "    </tr>\n",
       "  </tbody>\n",
       "</table>\n",
       "</div>"
      ],
      "text/plain": [
       "                                               title  \\\n",
       "0  The 'Great Migration' Was About Racial Terror,...   \n",
       "1  Yet More Evidence for the Social Cost of Drivi...   \n",
       "2             How Millennials Are Reviving Cleveland   \n",
       "3  How Can We Understand the Charleston Shootings...   \n",
       "4  Paris Is Making 7 Iconic Squares More Pedestri...   \n",
       "\n",
       "                                         description    datetime  \\\n",
       "0  “The North and the Congress basically gave up ...  2015-06-24   \n",
       "1  A study of Greater London linked loud traffic ...  2015-06-24   \n",
       "2  The downtown population is at an all-time high...  2015-06-23   \n",
       "3  A group of professors have created the #Charle...  2015-06-23   \n",
       "4  “A city where you’re surrounded by hubbub, aba...  2015-06-23   \n",
       "\n",
       "                author                                               link  \\\n",
       "0         Brentin Mock  http://www.citylab.com/crime/2015/06/the-great...   \n",
       "1           Eric Jaffe  http://www.citylab.com/commute/2015/06/yet-mor...   \n",
       "2           Eric Jaffe  http://www.citylab.com/work/2015/06/how-millen...   \n",
       "3         Brentin Mock  http://www.citylab.com/crime/2015/06/how-can-w...   \n",
       "4  Feargus O'Sullivan   http://www.citylab.com/commute/2015/06/paris-i...   \n",
       "\n",
       "  category  section  \n",
       "0    crime  commute  \n",
       "1  commute  commute  \n",
       "2     work  commute  \n",
       "3    crime  commute  \n",
       "4  commute  commute  "
      ]
     },
     "execution_count": 8,
     "metadata": {},
     "output_type": "execute_result"
    }
   ],
   "source": [
    "a.head()"
   ]
  },
  {
   "cell_type": "markdown",
   "metadata": {},
   "source": [
    "####Extract year and month from the 'datetime' column"
   ]
  },
  {
   "cell_type": "code",
   "execution_count": 11,
   "metadata": {
    "collapsed": false
   },
   "outputs": [
    {
     "data": {
      "text/html": [
       "<div style=\"max-height:1000px;max-width:1500px;overflow:auto;\">\n",
       "<table border=\"1\" class=\"dataframe\">\n",
       "  <thead>\n",
       "    <tr style=\"text-align: right;\">\n",
       "      <th></th>\n",
       "      <th>title</th>\n",
       "      <th>description</th>\n",
       "      <th>datetime</th>\n",
       "      <th>author</th>\n",
       "      <th>link</th>\n",
       "      <th>category</th>\n",
       "      <th>section</th>\n",
       "      <th>year</th>\n",
       "      <th>month</th>\n",
       "    </tr>\n",
       "  </thead>\n",
       "  <tbody>\n",
       "    <tr>\n",
       "      <th>0</th>\n",
       "      <td>The 'Great Migration' Was About Racial Terror,...</td>\n",
       "      <td>“The North and the Congress basically gave up ...</td>\n",
       "      <td>2015-06-24</td>\n",
       "      <td>Brentin Mock</td>\n",
       "      <td>http://www.citylab.com/crime/2015/06/the-great...</td>\n",
       "      <td>crime</td>\n",
       "      <td>commute</td>\n",
       "      <td>2015</td>\n",
       "      <td>6</td>\n",
       "    </tr>\n",
       "    <tr>\n",
       "      <th>1</th>\n",
       "      <td>Yet More Evidence for the Social Cost of Drivi...</td>\n",
       "      <td>A study of Greater London linked loud traffic ...</td>\n",
       "      <td>2015-06-24</td>\n",
       "      <td>Eric Jaffe</td>\n",
       "      <td>http://www.citylab.com/commute/2015/06/yet-mor...</td>\n",
       "      <td>commute</td>\n",
       "      <td>commute</td>\n",
       "      <td>2015</td>\n",
       "      <td>6</td>\n",
       "    </tr>\n",
       "    <tr>\n",
       "      <th>2</th>\n",
       "      <td>How Millennials Are Reviving Cleveland</td>\n",
       "      <td>The downtown population is at an all-time high...</td>\n",
       "      <td>2015-06-23</td>\n",
       "      <td>Eric Jaffe</td>\n",
       "      <td>http://www.citylab.com/work/2015/06/how-millen...</td>\n",
       "      <td>work</td>\n",
       "      <td>commute</td>\n",
       "      <td>2015</td>\n",
       "      <td>6</td>\n",
       "    </tr>\n",
       "    <tr>\n",
       "      <th>3</th>\n",
       "      <td>How Can We Understand the Charleston Shootings...</td>\n",
       "      <td>A group of professors have created the #Charle...</td>\n",
       "      <td>2015-06-23</td>\n",
       "      <td>Brentin Mock</td>\n",
       "      <td>http://www.citylab.com/crime/2015/06/how-can-w...</td>\n",
       "      <td>crime</td>\n",
       "      <td>commute</td>\n",
       "      <td>2015</td>\n",
       "      <td>6</td>\n",
       "    </tr>\n",
       "    <tr>\n",
       "      <th>4</th>\n",
       "      <td>Paris Is Making 7 Iconic Squares More Pedestri...</td>\n",
       "      <td>“A city where you’re surrounded by hubbub, aba...</td>\n",
       "      <td>2015-06-23</td>\n",
       "      <td>Feargus O'Sullivan</td>\n",
       "      <td>http://www.citylab.com/commute/2015/06/paris-i...</td>\n",
       "      <td>commute</td>\n",
       "      <td>commute</td>\n",
       "      <td>2015</td>\n",
       "      <td>6</td>\n",
       "    </tr>\n",
       "  </tbody>\n",
       "</table>\n",
       "</div>"
      ],
      "text/plain": [
       "                                               title  \\\n",
       "0  The 'Great Migration' Was About Racial Terror,...   \n",
       "1  Yet More Evidence for the Social Cost of Drivi...   \n",
       "2             How Millennials Are Reviving Cleveland   \n",
       "3  How Can We Understand the Charleston Shootings...   \n",
       "4  Paris Is Making 7 Iconic Squares More Pedestri...   \n",
       "\n",
       "                                         description   datetime  \\\n",
       "0  “The North and the Congress basically gave up ... 2015-06-24   \n",
       "1  A study of Greater London linked loud traffic ... 2015-06-24   \n",
       "2  The downtown population is at an all-time high... 2015-06-23   \n",
       "3  A group of professors have created the #Charle... 2015-06-23   \n",
       "4  “A city where you’re surrounded by hubbub, aba... 2015-06-23   \n",
       "\n",
       "                author                                               link  \\\n",
       "0         Brentin Mock  http://www.citylab.com/crime/2015/06/the-great...   \n",
       "1           Eric Jaffe  http://www.citylab.com/commute/2015/06/yet-mor...   \n",
       "2           Eric Jaffe  http://www.citylab.com/work/2015/06/how-millen...   \n",
       "3         Brentin Mock  http://www.citylab.com/crime/2015/06/how-can-w...   \n",
       "4  Feargus O'Sullivan   http://www.citylab.com/commute/2015/06/paris-i...   \n",
       "\n",
       "  category  section  year  month  \n",
       "0    crime  commute  2015      6  \n",
       "1  commute  commute  2015      6  \n",
       "2     work  commute  2015      6  \n",
       "3    crime  commute  2015      6  \n",
       "4  commute  commute  2015      6  "
      ]
     },
     "execution_count": 11,
     "metadata": {},
     "output_type": "execute_result"
    }
   ],
   "source": [
    "df1['datetime'] = pd.to_datetime(df1['datetime'])\n",
    "df1['year'],df1['month'] = df1['datetime'].dt.year, df1['datetime'].dt.month\n",
    "df1.head()"
   ]
  },
  {
   "cell_type": "markdown",
   "metadata": {},
   "source": [
    "####Number of Articles by Categories"
   ]
  },
  {
   "cell_type": "code",
   "execution_count": 13,
   "metadata": {
    "collapsed": false
   },
   "outputs": [
    {
     "data": {
      "text/plain": [
       "<matplotlib.axes._subplots.AxesSubplot at 0x10ee9b410>"
      ]
     },
     "execution_count": 13,
     "metadata": {},
     "output_type": "execute_result"
    },
    {
     "data": {
      "image/png": "[encoded data removed]",
      "text/plain": [
       "<matplotlib.figure.Figure at 0x10ee9b250>"
      ]
     },
     "metadata": {},
     "output_type": "display_data"
    }
   ],
   "source": [
    "category = df1.groupby('category').count()\n",
    "plt.figure(figsize=(10,5))\n",
    "category.title.plot(kind='bar', title = 'Number of Articles by Categories', alpha = 0.7)"
   ]
  },
  {
   "cell_type": "markdown",
   "metadata": {},
   "source": [
    "####Top 25 Authors"
   ]
  },
  {
   "cell_type": "code",
   "execution_count": 14,
   "metadata": {
    "collapsed": false
   },
   "outputs": [
    {
     "name": "stdout",
     "output_type": "stream",
     "text": [
      "905\n"
     ]
    },
    {
     "data": {
      "text/plain": [
       "<matplotlib.axes._subplots.AxesSubplot at 0x10ee9b210>"
      ]
     },
     "execution_count": 14,
     "metadata": {},
     "output_type": "execute_result"
    },
    {
     "data": {
      "image/png": "[encoded data removed]",
      "text/plain": [
       "<matplotlib.figure.Figure at 0x10ee21950>"
      ]
     },
     "metadata": {},
     "output_type": "display_data"
    }
   ],
   "source": [
    "author = df1.groupby('author').count().sort(columns= 'title', ascending= False)\n",
    "print len(author)\n",
    "plt.figure(figsize=(14,6))\n",
    "author_top25 = author.iloc[0:26,:]\n",
    "author_top25.title.plot(kind='bar', title = 'Top 25 Authors based on the Number of Articles Posted', alpha = 0.7)"
   ]
  },
  {
   "cell_type": "markdown",
   "metadata": {},
   "source": [
    "#### Articles Posted Over Years"
   ]
  },
  {
   "cell_type": "code",
   "execution_count": 15,
   "metadata": {
    "collapsed": false
   },
   "outputs": [
    {
     "data": {
      "text/plain": [
       "<matplotlib.axes._subplots.AxesSubplot at 0x10ed67350>"
      ]
     },
     "execution_count": 15,
     "metadata": {},
     "output_type": "execute_result"
    },
    {
     "data": {
      "image/png": "[encoded data removed]",
      "text/plain": [
       "<matplotlib.figure.Figure at 0x10ed6f950>"
      ]
     },
     "metadata": {},
     "output_type": "display_data"
    }
   ],
   "source": [
    "datetime = df1.groupby(['year','month']).count()\n",
    "datetime.title.plot(figsize=(14, 6), color = 'blue', title = 'Number of Articles Posted Over Years', alpha = 0.7)"
   ]
  },
  {
   "cell_type": "markdown",
   "metadata": {},
   "source": [
    "##3. Keywords Examination\n",
    "\n",
    "\n",
    "###Question: Whether has Data Science become a popular topic in the urban planning community?\n",
    "\n",
    "\n",
    "1. Define a set of keywords related to data science (e.g. \"data science\", \"data mining\", \"visualization\", \"mapping\"....)\n",
    "2. Examine whether these keywords appeared in the article's title or description (Caveat: these keywords were not explicitly addressed in article's title or description)"
   ]
  },
  {
   "cell_type": "code",
   "execution_count": 18,
   "metadata": {
    "collapsed": true
   },
   "outputs": [],
   "source": [
    "def countWord(raw_string, result=None):\n",
    "    if result is None:\n",
    "        result = {i:0 for i in keywords}\n",
    "    raw_string = raw_string.lower()\n",
    "    for i in string.punctuation:\n",
    "        raw_string = raw_string.replace(i, '')\n",
    "    \n",
    "    # Some keywords consist of only one word (\"visualization\"):\n",
    "    raw_string_token = nltk.word_tokenize(raw_string)\n",
    "    \n",
    "    # While some keywords consist of two words (\"data scientist\"):\n",
    "    raw_string_bigrams = list(ngrams(raw_string_token,2)) \n",
    "    \n",
    "    for i in raw_string_bigrams:\n",
    "        if i in keywords:\n",
    "            result[i] += 1\n",
    "    for k in raw_string_token:\n",
    "        if k in keywords:\n",
    "            result[k] += 1\n",
    "    return result"
   ]
  },
  {
   "cell_type": "markdown",
   "metadata": {},
   "source": [
    "#### Set a list of keywords related to Data Science"
   ]
  },
  {
   "cell_type": "code",
   "execution_count": 19,
   "metadata": {
    "collapsed": true
   },
   "outputs": [],
   "source": [
    "keywords = set([('data', 'science'),('data', 'mining'),('big', 'data'),('open', 'data'),('analytics'),('data', 'scientists'), ('data', 'scientist'), 'visualization','visual','data','science', 'map', 'maps', 'mapping',('machine', 'learning')])"
   ]
  },
  {
   "cell_type": "markdown",
   "metadata": {},
   "source": [
    "####Examine whether keywords appeared in the article's title and description columns"
   ]
  },
  {
   "cell_type": "code",
   "execution_count": 21,
   "metadata": {
    "collapsed": false
   },
   "outputs": [],
   "source": [
    "b = df1\n",
    "l = []\n",
    "for x in range(len(b)):\n",
    "    keywords = set([('data', 'science'),('data', 'mining'),('big', 'data'),('open', 'data'),('analytics'),('data', 'scientists'), ('data', 'scientist'), 'visualization','visual','data','science', 'map', 'maps', 'mapping',('machine', 'learning')])\n",
    "    title = b['title'].iloc[x]\n",
    "    title = str(title)\n",
    "    descript = b['description'].iloc[x]\n",
    "    descript = str(descript)\n",
    "    result = countWord(title)\n",
    "    total_count = countWord(descript,result = result)\n",
    "    l.append(total_count)"
   ]
  },
  {
   "cell_type": "markdown",
   "metadata": {},
   "source": [
    "####Create a list for each keyword"
   ]
  },
  {
   "cell_type": "code",
   "execution_count": 22,
   "metadata": {
    "collapsed": true
   },
   "outputs": [],
   "source": [
    "analytics = [i['analytics'] for i in l]\n",
    "visual = [i['visual'] for i in l]\n",
    "visualization = [i['visualization'] for i in l]\n",
    "big_data = [i[('big','data')] for i in l]\n",
    "data_mining = [i[('data', 'mining')] for i in l]\n",
    "data_science = [i[('data', 'science')] for i in l]\n",
    "data_scientist = [i[('data', 'scientist')] for i in l]\n",
    "data_scientists = [i[('data', 'scientists')] for i in l]\n",
    "machine_learning = [i[('machine', 'learning')] for i in l]\n",
    "open_data = [i[('open', 'data')] for i in l]\n",
    "data = [i['data'] for i in l]\n",
    "science = [i['science']for i in l]\n",
    "map_1 = [i['map']for i in l]\n",
    "maps = [i['maps']for i in l]\n",
    "mapping = [i['mapping']for i in l]"
   ]
  },
  {
   "cell_type": "markdown",
   "metadata": {},
   "source": [
    "####Add keyword columns to the dataframe"
   ]
  },
  {
   "cell_type": "code",
   "execution_count": 23,
   "metadata": {
    "collapsed": true
   },
   "outputs": [],
   "source": [
    "df2 = df1\n",
    "df2['analytics'] = pd.Series(analytics, index=df2.index)\n",
    "df2['visual'] = pd.Series(visual, index=df2.index)\n",
    "df2['visualization'] = pd.Series(visualization, index=df2.index)\n",
    "df2['big_data'] = pd.Series(big_data, index=df2.index)\n",
    "df2['data_mining'] = pd.Series(data_mining, index=df2.index)\n",
    "df2['data_science'] = pd.Series(data_science, index=df2.index)\n",
    "df2['data_scientist'] = pd.Series(data_scientist, index=df2.index)\n",
    "df2['data_scientists'] = pd.Series(data_scientists, index=df2.index)\n",
    "df2['machine_learning'] = pd.Series(machine_learning, index=df2.index)\n",
    "df2['open_data'] = pd.Series(open_data, index = df2.index)\n",
    "df2['data'] = pd.Series(data, index = df2.index)\n",
    "df2['science'] = pd.Series(science, index = df2.index)\n",
    "df2['map'] = pd.Series(map_1, index = df2.index)\n",
    "df2['maps'] = pd.Series(maps, index = df2.index)\n",
    "df2['mapping'] = pd.Series(mapping, index = df2.index)"
   ]
  },
  {
   "cell_type": "code",
   "execution_count": 24,
   "metadata": {
    "collapsed": true
   },
   "outputs": [],
   "source": [
    "## Get the sum of keywords for each article\n",
    "keyword_s = [sum(df2.iloc[i,9:]) for i in range(len(df2))]\n",
    "\n",
    "## Set a dummy variable, 1 = has at least one keyword, 0 = zero keyword\n",
    "keyword_dummy = []\n",
    "for i in range(len(df2)):\n",
    "    if keyword_s[i] != 0:\n",
    "        keyword_dummy.append(1)\n",
    "    if keyword_s[i] == 0:\n",
    "        keyword_dummy.append(0)  "
   ]
  },
  {
   "cell_type": "code",
   "execution_count": 25,
   "metadata": {
    "collapsed": true
   },
   "outputs": [],
   "source": [
    "df2['keyword_s'] = pd.Series(keyword_s, index = df2.index)\n",
    "df2['keyword_dummy'] = pd.Series(keyword_dummy, index = df2.index)"
   ]
  },
  {
   "cell_type": "code",
   "execution_count": 26,
   "metadata": {
    "collapsed": false
   },
   "outputs": [
    {
     "data": {
      "text/html": [
       "<div style=\"max-height:1000px;max-width:1500px;overflow:auto;\">\n",
       "<table border=\"1\" class=\"dataframe\">\n",
       "  <thead>\n",
       "    <tr style=\"text-align: right;\">\n",
       "      <th></th>\n",
       "      <th>title</th>\n",
       "      <th>description</th>\n",
       "      <th>datetime</th>\n",
       "      <th>author</th>\n",
       "      <th>link</th>\n",
       "      <th>category</th>\n",
       "      <th>section</th>\n",
       "      <th>year</th>\n",
       "      <th>month</th>\n",
       "      <th>analytics</th>\n",
       "      <th>...</th>\n",
       "      <th>data_scientists</th>\n",
       "      <th>machine_learning</th>\n",
       "      <th>open_data</th>\n",
       "      <th>data</th>\n",
       "      <th>science</th>\n",
       "      <th>map</th>\n",
       "      <th>maps</th>\n",
       "      <th>mapping</th>\n",
       "      <th>keyword_s</th>\n",
       "      <th>keyword_dummy</th>\n",
       "    </tr>\n",
       "  </thead>\n",
       "  <tbody>\n",
       "    <tr>\n",
       "      <th>0</th>\n",
       "      <td>The 'Great Migration' Was About Racial Terror,...</td>\n",
       "      <td>“The North and the Congress basically gave up ...</td>\n",
       "      <td>2015-06-24</td>\n",
       "      <td>Brentin Mock</td>\n",
       "      <td>http://www.citylab.com/crime/2015/06/the-great...</td>\n",
       "      <td>crime</td>\n",
       "      <td>commute</td>\n",
       "      <td>2015</td>\n",
       "      <td>6</td>\n",
       "      <td>0</td>\n",
       "      <td>...</td>\n",
       "      <td>0</td>\n",
       "      <td>0</td>\n",
       "      <td>0</td>\n",
       "      <td>0</td>\n",
       "      <td>0</td>\n",
       "      <td>0</td>\n",
       "      <td>0</td>\n",
       "      <td>0</td>\n",
       "      <td>0</td>\n",
       "      <td>0</td>\n",
       "    </tr>\n",
       "    <tr>\n",
       "      <th>1</th>\n",
       "      <td>Yet More Evidence for the Social Cost of Drivi...</td>\n",
       "      <td>A study of Greater London linked loud traffic ...</td>\n",
       "      <td>2015-06-24</td>\n",
       "      <td>Eric Jaffe</td>\n",
       "      <td>http://www.citylab.com/commute/2015/06/yet-mor...</td>\n",
       "      <td>commute</td>\n",
       "      <td>commute</td>\n",
       "      <td>2015</td>\n",
       "      <td>6</td>\n",
       "      <td>0</td>\n",
       "      <td>...</td>\n",
       "      <td>0</td>\n",
       "      <td>0</td>\n",
       "      <td>0</td>\n",
       "      <td>0</td>\n",
       "      <td>0</td>\n",
       "      <td>0</td>\n",
       "      <td>0</td>\n",
       "      <td>0</td>\n",
       "      <td>0</td>\n",
       "      <td>0</td>\n",
       "    </tr>\n",
       "    <tr>\n",
       "      <th>2</th>\n",
       "      <td>How Millennials Are Reviving Cleveland</td>\n",
       "      <td>The downtown population is at an all-time high...</td>\n",
       "      <td>2015-06-23</td>\n",
       "      <td>Eric Jaffe</td>\n",
       "      <td>http://www.citylab.com/work/2015/06/how-millen...</td>\n",
       "      <td>work</td>\n",
       "      <td>commute</td>\n",
       "      <td>2015</td>\n",
       "      <td>6</td>\n",
       "      <td>0</td>\n",
       "      <td>...</td>\n",
       "      <td>0</td>\n",
       "      <td>0</td>\n",
       "      <td>0</td>\n",
       "      <td>0</td>\n",
       "      <td>0</td>\n",
       "      <td>0</td>\n",
       "      <td>0</td>\n",
       "      <td>0</td>\n",
       "      <td>0</td>\n",
       "      <td>0</td>\n",
       "    </tr>\n",
       "    <tr>\n",
       "      <th>3</th>\n",
       "      <td>How Can We Understand the Charleston Shootings...</td>\n",
       "      <td>A group of professors have created the #Charle...</td>\n",
       "      <td>2015-06-23</td>\n",
       "      <td>Brentin Mock</td>\n",
       "      <td>http://www.citylab.com/crime/2015/06/how-can-w...</td>\n",
       "      <td>crime</td>\n",
       "      <td>commute</td>\n",
       "      <td>2015</td>\n",
       "      <td>6</td>\n",
       "      <td>0</td>\n",
       "      <td>...</td>\n",
       "      <td>0</td>\n",
       "      <td>0</td>\n",
       "      <td>0</td>\n",
       "      <td>0</td>\n",
       "      <td>0</td>\n",
       "      <td>0</td>\n",
       "      <td>0</td>\n",
       "      <td>0</td>\n",
       "      <td>0</td>\n",
       "      <td>0</td>\n",
       "    </tr>\n",
       "    <tr>\n",
       "      <th>4</th>\n",
       "      <td>Paris Is Making 7 Iconic Squares More Pedestri...</td>\n",
       "      <td>“A city where you’re surrounded by hubbub, aba...</td>\n",
       "      <td>2015-06-23</td>\n",
       "      <td>Feargus O'Sullivan</td>\n",
       "      <td>http://www.citylab.com/commute/2015/06/paris-i...</td>\n",
       "      <td>commute</td>\n",
       "      <td>commute</td>\n",
       "      <td>2015</td>\n",
       "      <td>6</td>\n",
       "      <td>0</td>\n",
       "      <td>...</td>\n",
       "      <td>0</td>\n",
       "      <td>0</td>\n",
       "      <td>0</td>\n",
       "      <td>0</td>\n",
       "      <td>0</td>\n",
       "      <td>0</td>\n",
       "      <td>0</td>\n",
       "      <td>0</td>\n",
       "      <td>0</td>\n",
       "      <td>0</td>\n",
       "    </tr>\n",
       "  </tbody>\n",
       "</table>\n",
       "<p>5 rows × 26 columns</p>\n",
       "</div>"
      ],
      "text/plain": [
       "                                               title  \\\n",
       "0  The 'Great Migration' Was About Racial Terror,...   \n",
       "1  Yet More Evidence for the Social Cost of Drivi...   \n",
       "2             How Millennials Are Reviving Cleveland   \n",
       "3  How Can We Understand the Charleston Shootings...   \n",
       "4  Paris Is Making 7 Iconic Squares More Pedestri...   \n",
       "\n",
       "                                         description   datetime  \\\n",
       "0  “The North and the Congress basically gave up ... 2015-06-24   \n",
       "1  A study of Greater London linked loud traffic ... 2015-06-24   \n",
       "2  The downtown population is at an all-time high... 2015-06-23   \n",
       "3  A group of professors have created the #Charle... 2015-06-23   \n",
       "4  “A city where you’re surrounded by hubbub, aba... 2015-06-23   \n",
       "\n",
       "                author                                               link  \\\n",
       "0         Brentin Mock  http://www.citylab.com/crime/2015/06/the-great...   \n",
       "1           Eric Jaffe  http://www.citylab.com/commute/2015/06/yet-mor...   \n",
       "2           Eric Jaffe  http://www.citylab.com/work/2015/06/how-millen...   \n",
       "3         Brentin Mock  http://www.citylab.com/crime/2015/06/how-can-w...   \n",
       "4  Feargus O'Sullivan   http://www.citylab.com/commute/2015/06/paris-i...   \n",
       "\n",
       "  category  section  year  month  analytics      ...        data_scientists  \\\n",
       "0    crime  commute  2015      6          0      ...                      0   \n",
       "1  commute  commute  2015      6          0      ...                      0   \n",
       "2     work  commute  2015      6          0      ...                      0   \n",
       "3    crime  commute  2015      6          0      ...                      0   \n",
       "4  commute  commute  2015      6          0      ...                      0   \n",
       "\n",
       "   machine_learning  open_data  data  science  map  maps  mapping  keyword_s  \\\n",
       "0                 0          0     0        0    0     0        0          0   \n",
       "1                 0          0     0        0    0     0        0          0   \n",
       "2                 0          0     0        0    0     0        0          0   \n",
       "3                 0          0     0        0    0     0        0          0   \n",
       "4                 0          0     0        0    0     0        0          0   \n",
       "\n",
       "   keyword_dummy  \n",
       "0              0  \n",
       "1              0  \n",
       "2              0  \n",
       "3              0  \n",
       "4              0  \n",
       "\n",
       "[5 rows x 26 columns]"
      ]
     },
     "execution_count": 26,
     "metadata": {},
     "output_type": "execute_result"
    }
   ],
   "source": [
    "df2.head()"
   ]
  },
  {
   "cell_type": "markdown",
   "metadata": {},
   "source": [
    "#### The number of articles has at least one keyword in the title and description:\n",
    "\n",
    "#### 805 out of 11785: 6.83%"
   ]
  },
  {
   "cell_type": "code",
   "execution_count": 28,
   "metadata": {
    "collapsed": false
   },
   "outputs": [
    {
     "data": {
      "text/plain": [
       "805"
      ]
     },
     "execution_count": 28,
     "metadata": {},
     "output_type": "execute_result"
    }
   ],
   "source": [
    "keywords_dummy_count = [i for i in keyword_dummy if i!=0]\n",
    "len(keywords_dummy_count)"
   ]
  },
  {
   "cell_type": "code",
   "execution_count": 29,
   "metadata": {
    "collapsed": true
   },
   "outputs": [],
   "source": [
    "keyword_time = df2.groupby(['year','month']).sum()"
   ]
  },
  {
   "cell_type": "code",
   "execution_count": 31,
   "metadata": {
    "collapsed": false
   },
   "outputs": [
    {
     "data": {
      "text/plain": [
       "<matplotlib.axes._subplots.AxesSubplot at 0x1106bd750>"
      ]
     },
     "execution_count": 31,
     "metadata": {},
     "output_type": "execute_result"
    },
    {
     "data": {
      "image/png": "[encoded data removed]",
      "text/plain": [
       "<matplotlib.figure.Figure at 0x10e492d50>"
      ]
     },
     "metadata": {},
     "output_type": "display_data"
    }
   ],
   "source": [
    "keyword_time.keyword_dummy.plot(figsize=(14, 6), color = 'blue', title = 'Number of Articles Containing Keywords Over Years')"
   ]
  },
  {
   "cell_type": "code",
   "execution_count": null,
   "metadata": {
    "collapsed": true
   },
   "outputs": [],
   "source": []
  }
 ],
 "metadata": {
  "kernelspec": {
   "display_name": "Python 2",
   "language": "python",
   "name": "python2"
  },
  "language_info": {
   "codemirror_mode": {
    "name": "ipython",
    "version": 2
   },
   "file_extension": ".py",
   "mimetype": "text/x-python",
   "name": "python",
   "nbconvert_exporter": "python",
   "pygments_lexer": "ipython2",
   "version": "2.7.10"
  }
 },
 "nbformat": 4,
 "nbformat_minor": 0
}
